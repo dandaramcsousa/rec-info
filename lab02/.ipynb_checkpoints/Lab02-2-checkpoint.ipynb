{
 "cells": [
  {
   "cell_type": "markdown",
   "metadata": {},
   "source": [
    "# PageRank"
   ]
  },
  {
   "cell_type": "markdown",
   "metadata": {},
   "source": [
    "<h3>Autora: Dandara Sousa </h3>"
   ]
  },
  {
   "cell_type": "markdown",
   "metadata": {},
   "source": [
    "Essa é a resolução da segunda parte do segundo lab da disciplina de Recuperação da Informação. Nessa atividade a ideia é exercitar o algoritmo de PageRank, implementando-o e aplicando num conjunto de dados que representam links entre investidores de bitcoins. Vamos considerar somente as pessoas que receberam notas iguais ou maior a oito. Ou seja, somente as arestas que tenham peso maior ou igual à oito. Após isso, o que se deve fazer é uma visualização dos resultados com a ferramente Gephi. Abaixo, segue as perguntas que devem ser respondidas nesta atividade:\n",
    "1. Quantas iterações o PageRank precisou rodar até atingir convergência?\n",
    "2. Quais os 5 investidores mais importantes segundo o PageRank? Quais seus valores de PageRank?\n",
    "3. Como você poderia usar o PageRank caso você fosse um investidor em bitcoins?"
   ]
  },
  {
   "cell_type": "code",
   "execution_count": 1,
   "metadata": {},
   "outputs": [],
   "source": [
    "import numpy as np\n",
    "import pandas as pd"
   ]
  },
  {
   "cell_type": "markdown",
   "metadata": {},
   "source": [
    "Primeiro, vamos organizar os dados. Eles podem ser encontrados no seguinte [link](http://snap.stanford.edu/data/soc-sign-bitcoin-alpha.html)."
   ]
  },
  {
   "cell_type": "code",
   "execution_count": 2,
   "metadata": {},
   "outputs": [],
   "source": [
    "SOURCE, TARGET, RATING, TIME = 'source', 'target', 'rating', 'time'\n",
    "df = pd.read_csv(\"soc-sign-bitcoinalpha.csv\", names=[SOURCE, TARGET, RATING, TIME ])"
   ]
  },
  {
   "cell_type": "code",
   "execution_count": 3,
   "metadata": {},
   "outputs": [
    {
     "data": {
      "text/html": [
       "<div>\n",
       "<style scoped>\n",
       "    .dataframe tbody tr th:only-of-type {\n",
       "        vertical-align: middle;\n",
       "    }\n",
       "\n",
       "    .dataframe tbody tr th {\n",
       "        vertical-align: top;\n",
       "    }\n",
       "\n",
       "    .dataframe thead th {\n",
       "        text-align: right;\n",
       "    }\n",
       "</style>\n",
       "<table border=\"1\" class=\"dataframe\">\n",
       "  <thead>\n",
       "    <tr style=\"text-align: right;\">\n",
       "      <th></th>\n",
       "      <th>source</th>\n",
       "      <th>target</th>\n",
       "      <th>rating</th>\n",
       "    </tr>\n",
       "  </thead>\n",
       "  <tbody>\n",
       "    <tr>\n",
       "      <th>0</th>\n",
       "      <td>7188</td>\n",
       "      <td>1</td>\n",
       "      <td>10</td>\n",
       "    </tr>\n",
       "    <tr>\n",
       "      <th>1</th>\n",
       "      <td>430</td>\n",
       "      <td>1</td>\n",
       "      <td>10</td>\n",
       "    </tr>\n",
       "    <tr>\n",
       "      <th>2</th>\n",
       "      <td>3134</td>\n",
       "      <td>1</td>\n",
       "      <td>10</td>\n",
       "    </tr>\n",
       "    <tr>\n",
       "      <th>3</th>\n",
       "      <td>3026</td>\n",
       "      <td>1</td>\n",
       "      <td>10</td>\n",
       "    </tr>\n",
       "    <tr>\n",
       "      <th>4</th>\n",
       "      <td>3010</td>\n",
       "      <td>1</td>\n",
       "      <td>10</td>\n",
       "    </tr>\n",
       "  </tbody>\n",
       "</table>\n",
       "</div>"
      ],
      "text/plain": [
       "   source  target  rating\n",
       "0    7188       1      10\n",
       "1     430       1      10\n",
       "2    3134       1      10\n",
       "3    3026       1      10\n",
       "4    3010       1      10"
      ]
     },
     "execution_count": 3,
     "metadata": {},
     "output_type": "execute_result"
    }
   ],
   "source": [
    "df = df.loc[(df[RATING] >= 8)]\n",
    "df = df[[SOURCE, TARGET, RATING]]\n",
    "df.head()"
   ]
  },
  {
   "cell_type": "markdown",
   "metadata": {},
   "source": [
    "Nossa próxima meta é construir uma matriz adjacência com os dados. Por ser um grafo precisamos, então, pegar as informações de como os nós se relacionam (para quais nós um nó aponta) e para facilitar a construção da matriz vamos ordenar esse relacionamento."
   ]
  },
  {
   "cell_type": "code",
   "execution_count": 4,
   "metadata": {},
   "outputs": [],
   "source": [
    "n_relation = dict()\n",
    "for source, group_itens in df.groupby([SOURCE]):\n",
    "    n_relation[source] = len(group_itens)\n",
    "\n",
    "nodes = sorted(list(set(df.source.append(df.target))))\n",
    "\n",
    "adjacency_matrix = pd.DataFrame(columns=nodes)\n",
    "\n",
    "for source in nodes:\n",
    "    filtered = df.loc[(df.source == source)]\n",
    "    target_l = filtered.target\n",
    "    rating_l = filtered.rating\n",
    "    \n",
    "    adjacency_matrix_source_row = [0] * len(nodes)\n",
    "    for t, r in zip(target_l, rating_l):\n",
    "        index = nodes.index(t)\n",
    "        adjacency_matrix_source_row[index] = 1 / n_relation[source]\n",
    "    \n",
    "    adjacency_matrix.loc[source] = adjacency_matrix_source_row\n",
    "\n",
    "adjacency_matrix = adjacency_matrix.transpose()"
   ]
  },
  {
   "cell_type": "markdown",
   "metadata": {},
   "source": [
    "### Page Rank"
   ]
  },
  {
   "cell_type": "markdown",
   "metadata": {},
   "source": [
    "Implementado a partir do [vídeo](https://www.youtube.com/watch?v=zv4OVNWfVt4)."
   ]
  },
  {
   "cell_type": "code",
   "execution_count": 5,
   "metadata": {},
   "outputs": [],
   "source": [
    "teleportation_factor = 0.15\n",
    "B = (teleportation_factor / len(nodes)) * np.matrix(\n",
    "    [[1] * len(nodes) for i in range(len(nodes))]\n",
    "    )\n",
    "\n",
    "M = ((1 - teleportation_factor) * adjacency_matrix.values) + B\n",
    "\n",
    "page_rank_vector = (1/len(nodes)) * np.matrix(\n",
    "    [[1] for i in range(len(nodes))]\n",
    "    )"
   ]
  },
  {
   "cell_type": "code",
   "execution_count": 6,
   "metadata": {},
   "outputs": [],
   "source": [
    "def pagerank(page_rank_vector, curr_iter):\n",
    "    \n",
    "    diff = sum(abs(M * page_rank_vector - page_rank_vector))\n",
    "    will_converge = diff < 0.001\n",
    "    \n",
    "    print('Interation number:', curr_iter)\n",
    "    print('Diff of page rank vector between iterations:', diff, '\\n')\n",
    "    \n",
    "    if not will_converge:\n",
    "        return pagerank(M * page_rank_vector, curr_iter + 1)\n",
    "    else:\n",
    "        print('Converged!')\n",
    "        return M * page_rank_vector"
   ]
  },
  {
   "cell_type": "code",
   "execution_count": 7,
   "metadata": {},
   "outputs": [
    {
     "name": "stdout",
     "output_type": "stream",
     "text": [
      "Interation number: 1\n",
      "Diff of page rank vector between iterations: [[0.61346461]] \n",
      "\n",
      "Interation number: 2\n",
      "Diff of page rank vector between iterations: [[0.34847521]] \n",
      "\n",
      "Interation number: 3\n",
      "Diff of page rank vector between iterations: [[0.17180354]] \n",
      "\n",
      "Interation number: 4\n",
      "Diff of page rank vector between iterations: [[0.11310951]] \n",
      "\n",
      "Interation number: 5\n",
      "Diff of page rank vector between iterations: [[0.08096262]] \n",
      "\n",
      "Interation number: 6\n",
      "Diff of page rank vector between iterations: [[0.06400668]] \n",
      "\n",
      "Interation number: 7\n",
      "Diff of page rank vector between iterations: [[0.05010319]] \n",
      "\n",
      "Interation number: 8\n",
      "Diff of page rank vector between iterations: [[0.04212086]] \n",
      "\n",
      "Interation number: 9\n",
      "Diff of page rank vector between iterations: [[0.03471744]] \n",
      "\n",
      "Interation number: 10\n",
      "Diff of page rank vector between iterations: [[0.02995771]] \n",
      "\n",
      "Interation number: 11\n",
      "Diff of page rank vector between iterations: [[0.02557733]] \n",
      "\n",
      "Interation number: 12\n",
      "Diff of page rank vector between iterations: [[0.02231991]] \n",
      "\n",
      "Interation number: 13\n",
      "Diff of page rank vector between iterations: [[0.01940648]] \n",
      "\n",
      "Interation number: 14\n",
      "Diff of page rank vector between iterations: [[0.01711501]] \n",
      "\n",
      "Interation number: 15\n",
      "Diff of page rank vector between iterations: [[0.01506102]] \n",
      "\n",
      "Interation number: 16\n",
      "Diff of page rank vector between iterations: [[0.01340284]] \n",
      "\n",
      "Interation number: 17\n",
      "Diff of page rank vector between iterations: [[0.01192134]] \n",
      "\n",
      "Interation number: 18\n",
      "Diff of page rank vector between iterations: [[0.01064144]] \n",
      "\n",
      "Interation number: 19\n",
      "Diff of page rank vector between iterations: [[0.00949499]] \n",
      "\n",
      "Interation number: 20\n",
      "Diff of page rank vector between iterations: [[0.00849636]] \n",
      "\n",
      "Interation number: 21\n",
      "Diff of page rank vector between iterations: [[0.00759896]] \n",
      "\n",
      "Interation number: 22\n",
      "Diff of page rank vector between iterations: [[0.0068131]] \n",
      "\n",
      "Interation number: 23\n",
      "Diff of page rank vector between iterations: [[0.00610453]] \n",
      "\n",
      "Interation number: 24\n",
      "Diff of page rank vector between iterations: [[0.00548941]] \n",
      "\n",
      "Interation number: 25\n",
      "Diff of page rank vector between iterations: [[0.00494128]] \n",
      "\n",
      "Interation number: 26\n",
      "Diff of page rank vector between iterations: [[0.00444922]] \n",
      "\n",
      "Interation number: 27\n",
      "Diff of page rank vector between iterations: [[0.00400837]] \n",
      "\n",
      "Interation number: 28\n",
      "Diff of page rank vector between iterations: [[0.00361198]] \n",
      "\n",
      "Interation number: 29\n",
      "Diff of page rank vector between iterations: [[0.0032562]] \n",
      "\n",
      "Interation number: 30\n",
      "Diff of page rank vector between iterations: [[0.00293593]] \n",
      "\n",
      "Interation number: 31\n",
      "Diff of page rank vector between iterations: [[0.00264806]] \n",
      "\n",
      "Interation number: 32\n",
      "Diff of page rank vector between iterations: [[0.0023887]] \n",
      "\n",
      "Interation number: 33\n",
      "Diff of page rank vector between iterations: [[0.00215531]] \n",
      "\n",
      "Interation number: 34\n",
      "Diff of page rank vector between iterations: [[0.00194491]] \n",
      "\n",
      "Interation number: 35\n",
      "Diff of page rank vector between iterations: [[0.0017554]] \n",
      "\n",
      "Interation number: 36\n",
      "Diff of page rank vector between iterations: [[0.00158448]] \n",
      "\n",
      "Interation number: 37\n",
      "Diff of page rank vector between iterations: [[0.00143042]] \n",
      "\n",
      "Interation number: 38\n",
      "Diff of page rank vector between iterations: [[0.00129142]] \n",
      "\n",
      "Interation number: 39\n",
      "Diff of page rank vector between iterations: [[0.00116607]] \n",
      "\n",
      "Interation number: 40\n",
      "Diff of page rank vector between iterations: [[0.00105293]] \n",
      "\n",
      "Interation number: 41\n",
      "Diff of page rank vector between iterations: [[0.00095087]] \n",
      "\n",
      "Converged!\n"
     ]
    }
   ],
   "source": [
    "result = pagerank(page_rank_vector, 1)"
   ]
  },
  {
   "cell_type": "markdown",
   "metadata": {},
   "source": [
    "Agora, exportando para csv para utilizarmos no gephi."
   ]
  },
  {
   "cell_type": "code",
   "execution_count": 9,
   "metadata": {},
   "outputs": [],
   "source": [
    "node_ids = adjacency_matrix.index.tolist()\n",
    "index_pr = 0\n",
    "page_rank_l = list(map(lambda list_pr: list_pr[index_pr], result.tolist()))\n",
    "nodes_dict = {'Id': node_ids, 'Label': node_ids, 'Modularity Class': page_rank_l}\n",
    "nodes_df = pd.DataFrame.from_dict(nodes_dict)\n",
    "nodes_df.to_csv('nodes.csv', index=False)\n",
    "df.to_csv('edges.csv',  index=False)"
   ]
  },
  {
   "cell_type": "markdown",
   "metadata": {},
   "source": [
    "![pagerank graph](graph.png \"Logo Title Text 1\")"
   ]
  },
  {
   "cell_type": "markdown",
   "metadata": {},
   "source": [
    "### Perguntas\n",
    "\n",
    "Agora, respondendoa as perguntas:\n",
    "\n",
    "**Quantas iterações o PageRank precisou rodar até atingir convergência?**\n",
    "\n",
    "    Foram 99 interações\n"
   ]
  },
  {
   "cell_type": "markdown",
   "metadata": {},
   "source": [
    "**Quais os 5 investidores mais importantes segundo o PageRank? Quais seus valores de PageRank?**"
   ]
  },
  {
   "cell_type": "code",
   "execution_count": 16,
   "metadata": {},
   "outputs": [
    {
     "name": "stdout",
     "output_type": "stream",
     "text": [
      "ID  --------  PageRank\n",
      "2            0.00021287\n",
      "16           0.00015160\n",
      "109          0.00014302\n",
      "461          0.00008390\n",
      "88           0.00008325\n"
     ]
    }
   ],
   "source": [
    "print('ID', ' -------- ', 'PageRank')\n",
    "\n",
    "for pr, inv_id in sorted(zip(page_rank_l, node_ids), reverse=True)[:5]:\n",
    "    print('{:<10}   {:<.8f}'.format(inv_id, pr))"
   ]
  },
  {
   "cell_type": "markdown",
   "metadata": {},
   "source": [
    "**Como você poderia usar o PageRank caso você fosse um investidor em bitcoins?**"
   ]
  },
  {
   "cell_type": "markdown",
   "metadata": {},
   "source": [
    "Provavelmente utilizaria para identificar possíveis investidores para transações. Quanto maior o pagerank mais possível seria a transação com o investidor visto que ele pareceria mais propício a trocar as moedas."
   ]
  }
 ],
 "metadata": {
  "kernelspec": {
   "display_name": "Python 3",
   "language": "python",
   "name": "python3"
  },
  "language_info": {
   "codemirror_mode": {
    "name": "ipython",
    "version": 3
   },
   "file_extension": ".py",
   "mimetype": "text/x-python",
   "name": "python",
   "nbconvert_exporter": "python",
   "pygments_lexer": "ipython3",
   "version": "3.6.4"
  }
 },
 "nbformat": 4,
 "nbformat_minor": 2
}
