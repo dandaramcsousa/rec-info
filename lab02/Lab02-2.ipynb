{
 "cells": [
  {
   "cell_type": "markdown",
   "metadata": {},
   "source": [
    "# PageRank"
   ]
  },
  {
   "cell_type": "markdown",
   "metadata": {},
   "source": [
    "<h3>Autora: Dandara Sousa </h3>"
   ]
  },
  {
   "cell_type": "markdown",
   "metadata": {},
   "source": [
    "Essa é a resolução da segunda parte do segundo lab da disciplina de Recuperação da Informação. Nessa atividade a ideia é exercitar o algoritmo de PageRank, implementando-o e aplicando num conjunto de dados que representam links entre investidores de bitcoins. Após isso, o que se deve fazer é uma visualização dos resultados com a ferramente Gephi. Abaixo, segue as perguntas que devem ser respondidas nesta atividade:\n",
    "1. Quantas iterações o PageRank precisou rodar até atingir convergência?\n",
    "2. Quais os 5 investidores mais importantes segundo o PageRank? Quais seus valores de PageRank?\n",
    "3. Como você poderia usar o PageRank caso você fosse um investidor em bitcoins?"
   ]
  },
  {
   "cell_type": "code",
   "execution_count": null,
   "metadata": {},
   "outputs": [],
   "source": []
  }
 ],
 "metadata": {
  "kernelspec": {
   "display_name": "Python 3",
   "language": "python",
   "name": "python3"
  },
  "language_info": {
   "codemirror_mode": {
    "name": "ipython",
    "version": 3
   },
   "file_extension": ".py",
   "mimetype": "text/x-python",
   "name": "python",
   "nbconvert_exporter": "python",
   "pygments_lexer": "ipython3",
   "version": "3.6.4"
  }
 },
 "nbformat": 4,
 "nbformat_minor": 2
}
