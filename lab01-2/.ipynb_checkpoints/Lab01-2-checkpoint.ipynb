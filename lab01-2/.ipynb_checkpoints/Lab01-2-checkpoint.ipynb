{
 "cells": [
  {
   "cell_type": "markdown",
   "metadata": {},
   "source": [
    "# Ranking e Modelo Vetorial"
   ]
  },
  {
   "cell_type": "markdown",
   "metadata": {},
   "source": [
    "<h3>Autora: Dandara Sousa </h3>"
   ]
  },
  {
   "cell_type": "markdown",
   "metadata": {},
   "source": [
    "Essa é a resolução da segunda parte do Lab 01 da disciplina *Recuperação da Informação e Busca na Web*. \n",
    "A atividade consiste em reconstruir o índice considerando o novo dataset, refinar o índice invertido de forma a incluir o IDF (inverse document frequency) de cada termo do dicionário e o TF (term frequency) de cada termo em cada documento da lista de postings respectiva, instanciar o modelo vetorial com representação binária, TF, TF-IDF e BM25 e, por último, excutar os algoritmos separadamente em consultas específicas (veja abaixo) e retorne os top-5 documentos mais similares à cada consulta.\n",
    "\n",
    "As consultas específicas são:\n",
    "* segundo turno;\n",
    "* lava jato;\n",
    "* projeto de lei;\n",
    "* compra de voto.\n",
    "* ministério público.\n",
    "\n",
    "A busca pelos termos deve ser conjuntiva (utilizando o AND)."
   ]
  },
  {
   "cell_type": "code",
   "execution_count": 1,
   "metadata": {},
   "outputs": [],
   "source": [
    "import pandas as pd\n",
    "import numpy as np\n",
    "import nltk as nl\n",
    "from collections import defaultdict\n",
    "import itertools\n",
    "import operator"
   ]
  },
  {
   "cell_type": "markdown",
   "metadata": {},
   "source": [
    "    Em primeiro momento vamos conhecer os dados que consiste em um .csv de notícias do Estadão. Temos no arquivo acesso ao timestamp, título da notícia, subtítulo da notícias, o conteúdo da notícia, a url e, por último, o id.\n"
   ]
  },
  {
   "cell_type": "code",
   "execution_count": 2,
   "metadata": {},
   "outputs": [
    {
     "data": {
      "text/html": [
       "<div>\n",
       "<style scoped>\n",
       "    .dataframe tbody tr th:only-of-type {\n",
       "        vertical-align: middle;\n",
       "    }\n",
       "\n",
       "    .dataframe tbody tr th {\n",
       "        vertical-align: top;\n",
       "    }\n",
       "\n",
       "    .dataframe thead th {\n",
       "        text-align: right;\n",
       "    }\n",
       "</style>\n",
       "<table border=\"1\" class=\"dataframe\">\n",
       "  <thead>\n",
       "    <tr style=\"text-align: right;\">\n",
       "      <th></th>\n",
       "      <th>timestamp</th>\n",
       "      <th>titulo</th>\n",
       "      <th>subTitulo</th>\n",
       "      <th>conteudo</th>\n",
       "      <th>url</th>\n",
       "      <th>idNoticia</th>\n",
       "    </tr>\n",
       "  </thead>\n",
       "  <tbody>\n",
       "    <tr>\n",
       "      <th>0</th>\n",
       "      <td>2014-12-31T00:00:00Z</td>\n",
       "      <td>PT espera 30 mil pessoas em festa na Esplanada</td>\n",
       "      <td>Objetivo é demonstrar apoio popular a Dilma e ...</td>\n",
       "      <td>BRASÍLIA - Após o desgaste provocado com o lan...</td>\n",
       "      <td>http://politica.estadao.com.br/noticias/geral,...</td>\n",
       "      <td>1</td>\n",
       "    </tr>\n",
       "    <tr>\n",
       "      <th>1</th>\n",
       "      <td>2014-12-31T00:00:00Z</td>\n",
       "      <td>Alckmin toma posse de olho no Planalto</td>\n",
       "      <td>Governador reeleito tenta amarrar tucanos paul...</td>\n",
       "      <td>Reeleito em outubro, o governador tucano Geral...</td>\n",
       "      <td>http://politica.estadao.com.br/noticias/geral,...</td>\n",
       "      <td>2</td>\n",
       "    </tr>\n",
       "    <tr>\n",
       "      <th>2</th>\n",
       "      <td>2014-12-31T00:00:00Z</td>\n",
       "      <td>Seis obstáculos e desafios do segundo mandato ...</td>\n",
       "      <td>Em meio a escândalo de corrupção, presidente t...</td>\n",
       "      <td>1. Rearranjo das contas A nova equipe econôm...</td>\n",
       "      <td>http://politica.estadao.com.br/noticias/geral,...</td>\n",
       "      <td>3</td>\n",
       "    </tr>\n",
       "    <tr>\n",
       "      <th>3</th>\n",
       "      <td>2014-12-31T00:00:00Z</td>\n",
       "      <td></td>\n",
       "      <td>Veja as principais fotos do dia e dos eventos ...</td>\n",
       "      <td></td>\n",
       "      <td>http://fotos.estadao.com.br/fotos/politica,dil...</td>\n",
       "      <td>4</td>\n",
       "    </tr>\n",
       "    <tr>\n",
       "      <th>4</th>\n",
       "      <td>2014-12-31T00:00:00Z</td>\n",
       "      <td></td>\n",
       "      <td>Veja as principais fotos do dia e dos eventos ...</td>\n",
       "      <td></td>\n",
       "      <td>http://fotos.estadao.com.br/fotos/politica,dil...</td>\n",
       "      <td>5</td>\n",
       "    </tr>\n",
       "  </tbody>\n",
       "</table>\n",
       "</div>"
      ],
      "text/plain": [
       "              timestamp                                             titulo  \\\n",
       "0  2014-12-31T00:00:00Z     PT espera 30 mil pessoas em festa na Esplanada   \n",
       "1  2014-12-31T00:00:00Z             Alckmin toma posse de olho no Planalto   \n",
       "2  2014-12-31T00:00:00Z  Seis obstáculos e desafios do segundo mandato ...   \n",
       "3  2014-12-31T00:00:00Z                                                      \n",
       "4  2014-12-31T00:00:00Z                                                      \n",
       "\n",
       "                                           subTitulo  \\\n",
       "0  Objetivo é demonstrar apoio popular a Dilma e ...   \n",
       "1  Governador reeleito tenta amarrar tucanos paul...   \n",
       "2  Em meio a escândalo de corrupção, presidente t...   \n",
       "3  Veja as principais fotos do dia e dos eventos ...   \n",
       "4  Veja as principais fotos do dia e dos eventos ...   \n",
       "\n",
       "                                            conteudo  \\\n",
       "0  BRASÍLIA - Após o desgaste provocado com o lan...   \n",
       "1  Reeleito em outubro, o governador tucano Geral...   \n",
       "2    1. Rearranjo das contas A nova equipe econôm...   \n",
       "3                                                      \n",
       "4                                                      \n",
       "\n",
       "                                                 url  idNoticia  \n",
       "0  http://politica.estadao.com.br/noticias/geral,...          1  \n",
       "1  http://politica.estadao.com.br/noticias/geral,...          2  \n",
       "2  http://politica.estadao.com.br/noticias/geral,...          3  \n",
       "3  http://fotos.estadao.com.br/fotos/politica,dil...          4  \n",
       "4  http://fotos.estadao.com.br/fotos/politica,dil...          5  "
      ]
     },
     "execution_count": 2,
     "metadata": {},
     "output_type": "execute_result"
    }
   ],
   "source": [
    "df = pd.read_csv(\"estadao_noticias_eleicao.csv\", encoding='utf-8')\n",
    "gabarito = pd.read_csv(\"gabarito.csv\", encoding='utf-8')\n",
    "df = df.replace(np.nan, '', regex = True)\n",
    "df.head()"
   ]
  },
  {
   "cell_type": "markdown",
   "metadata": {},
   "source": [
    "Para que as buscas sejam efetuadas utilizando o algoritmo de índices invertidos é necessário que tokens sejam gerados. Assim haverá uma ligação sobre qual token (no nosso caso, as palavras das notícias) aparece em qual notícia através do id desta notícia."
   ]
  },
  {
   "cell_type": "code",
   "execution_count": 3,
   "metadata": {},
   "outputs": [],
   "source": [
    "def term_freq(term, doc):\n",
    "    #freq = 0\n",
    "    #for word in doc:\n",
    "     #   if(term == word):\n",
    "      #      freq += 1\n",
    "    #return freq   \n",
    "    return len(list(filter((lambda x: x == term), doc)))"
   ]
  },
  {
   "cell_type": "code",
   "execution_count": 6,
   "metadata": {},
   "outputs": [],
   "source": [
    "def gera_tokens(df):\n",
    "    indexes = {}\n",
    "    for index,row in df.iterrows():\n",
    "        title_tokens = (word.lower() for word in (nl.word_tokenize(row['titulo'])))\n",
    "        subtitle_tokens = (word.lower() for word in (nl.word_tokenize(row['subTitulo'])))\n",
    "        notice_tokens = (word.lower() for word in (nl.word_tokenize(row['conteudo'])))\n",
    "        \n",
    "        tokens = list(title_tokens) +  list(subtitle_tokens) + list(notice_tokens)\n",
    "        \n",
    "        for token in tokens:\n",
    "            if (token in indexes):\n",
    "                indexes[token][token][row['idNoticia']] = term_freq(token,tokens)\n",
    "            else:\n",
    "                indexes[token] = {token: {row['idNoticia'] : term_freq(token,tokens)}}\n",
    "            \n",
    "    return indexes"
   ]
  },
  {
   "cell_type": "code",
   "execution_count": 7,
   "metadata": {},
   "outputs": [],
   "source": [
    "i_indexes = gera_tokens(df)"
   ]
  },
  {
   "cell_type": "markdown",
   "metadata": {},
   "source": [
    "<h4>Representação binária</h4>"
   ]
  },
  {
   "cell_type": "markdown",
   "metadata": {},
   "source": [
    "Na representação binária a ideia é simples. O termo tem um score em que é somado 1 para cada vez que ele aparecer em um documento."
   ]
  },
  {
   "cell_type": "code",
   "execution_count": 8,
   "metadata": {},
   "outputs": [],
   "source": [
    "def binary_rep(query):\n",
    "    bin_dict = {}\n",
    "    for term in query:\n",
    "        for doc_id in i_indexes[term][term].keys():\n",
    "            if doc_id in bin_dict:\n",
    "                bin_dict[doc_id] += 1\n",
    "            else:\n",
    "                bin_dict[doc_id] = 1\n",
    "    return bin_dict"
   ]
  },
  {
   "cell_type": "markdown",
   "metadata": {},
   "source": [
    "<h4>Frequência de termo</h4>"
   ]
  },
  {
   "cell_type": "markdown",
   "metadata": {},
   "source": [
    "Agora, visualizaremos a frequência de cada termo dada uma pesquisa. A ideia é pesar mais a frequência que o termo aparece no documento e assim conseguir resolver problemas de empates que são comuns com a representação binária.\n"
   ]
  },
  {
   "cell_type": "code",
   "execution_count": 9,
   "metadata": {},
   "outputs": [],
   "source": [
    "def term_freq(query):\n",
    "    termf_dict = {}\n",
    "    for term in query:\n",
    "        for doc_id in i_indexes[term][term].keys():\n",
    "            if (doc_id in termf_dict):\n",
    "                termf_dict[doc_id] += i_indexes[term][term][doc_id]\n",
    "            else:\n",
    "                termf_dict[doc_id] = i_indexes[term][term][doc_id]\n",
    "    return termf_dict"
   ]
  },
  {
   "cell_type": "markdown",
   "metadata": {},
   "source": [
    "<h4> Frequência de termo - Frequência de documento invertida</h4>"
   ]
  },
  {
   "cell_type": "markdown",
   "metadata": {},
   "source": [
    "O IDF é calculado com base na relação entre o número de documentos em que o termo aparece e o número total de documentos. \n",
    "Isso diminui a eficiência de casos onde um termo é usado diversas vezes com o único propósito de subir no ranking."
   ]
  },
  {
   "cell_type": "code",
   "execution_count": 10,
   "metadata": {},
   "outputs": [],
   "source": [
    "def term_freq_idf(query):\n",
    "    m = df.size \n",
    "    term_freq_idf_dict = {}\n",
    "    for term in query:\n",
    "        for doc_id in i_indexes[term][term].keys():\n",
    "            l = len(i_indexes[term][term])\n",
    "            if (doc_id in  term_freq_idf_dict):               \n",
    "                 term_freq_idf_dict[doc_id] += np.log((m+1)/l)\n",
    "            else:\n",
    "                term_freq_idf_dict[doc_id] = np.log((m+1)/l)\n",
    "    \n",
    "    termf_dict = term_freq(query)\n",
    "    \n",
    "    for doc_id in termf_dict.keys():\n",
    "        term_freq_idf_dict[doc_id] *= termf_dict[doc_id]\n",
    "    \n",
    "    return term_freq_idf_dict"
   ]
  },
  {
   "cell_type": "markdown",
   "metadata": {},
   "source": [
    "<h4>BM25</h4>"
   ]
  },
  {
   "cell_type": "markdown",
   "metadata": {},
   "source": [
    "Esse é o algoritmo que melhor lida com repetições abusivas de um termo. Ele considera previamente a quantidade de documentos onde o termo aparece, a frequência com que ele aparece e a quantidade de documentos no total."
   ]
  },
  {
   "cell_type": "code",
   "execution_count": 11,
   "metadata": {},
   "outputs": [],
   "source": [
    "def bm25(query):\n",
    "    m = df.size \n",
    "    bm25_dict = {}\n",
    "    for term in query:\n",
    "        for doc_id in i_indexes[term][term].keys():\n",
    "            l = len(i_indexes[term][term])\n",
    "            c = i_indexes[term][term][doc_id]\n",
    "            if (doc_id in bm25_dict):               \n",
    "                bm25_dict[doc_id] += (((l+1)*c)/(c+l))*np.log((m+1)/l)\n",
    "            else:\n",
    "                bm25_dict[doc_id] = (((l+1)*c)/(c+l))*np.log((m+1)/l)\n",
    "    return bm25_dict"
   ]
  },
  {
   "cell_type": "markdown",
   "metadata": {},
   "source": [
    "<h4>Busca</h4>"
   ]
  },
  {
   "cell_type": "markdown",
   "metadata": {},
   "source": [
    "Agora, definindo a busca geral utilizando os algoritmos:"
   ]
  },
  {
   "cell_type": "code",
   "execution_count": 12,
   "metadata": {},
   "outputs": [],
   "source": [
    "def search(query, algorithm):\n",
    "    query = query.split()\n",
    "    scores = {}\n",
    "    if (algorithm == \"binario\"):\n",
    "        scores = binary_rep(query)\n",
    "    elif (algorithm == \"tf\"):\n",
    "        scores = term_freq(query)\n",
    "    elif (algorithm == \"tfidf\"):\n",
    "        scores = term_freq_idf(query)\n",
    "    elif (algorithm == \"bm25\"):\n",
    "        scores = bm25(query)\n",
    "    else:\n",
    "        raise Exception(\"Algoritmo fora do escopo\")\n",
    "    \n",
    "    sorted_scores = sorted(scores.items(), key=operator.itemgetter(1), reverse = True)\n",
    "    \n",
    "    ids = []\n",
    "    for i in range(5):\n",
    "        ids.append(sorted_scores[i][0])\n",
    "\n",
    "    return ids\n",
    "    "
   ]
  },
  {
   "cell_type": "markdown",
   "metadata": {},
   "source": [
    "<h4>Definindo a medição de acertos</h4>\n",
    "Com base nesse [repositório](https://github.com/benhamner/Metrics/blob/master/Python/ml_metrics/average_precision.py)."
   ]
  },
  {
   "cell_type": "code",
   "execution_count": 13,
   "metadata": {},
   "outputs": [],
   "source": [
    "import numpy as np\n",
    "\n",
    "def apk(actual, predicted, k=10):\n",
    "    \"\"\"\n",
    "    Computes the average precision at k.\n",
    "    This function computes the average prescision at k between two lists of\n",
    "    items.\n",
    "    Parameters\n",
    "    ----------\n",
    "    actual : list\n",
    "             A list of elements that are to be predicted (order doesn't matter)\n",
    "    predicted : list\n",
    "                A list of predicted elements (order does matter)\n",
    "    k : int, optional\n",
    "        The maximum number of predicted elements\n",
    "    Returns\n",
    "    -------\n",
    "    score : double\n",
    "            The average precision at k over the input lists\n",
    "    \"\"\"\n",
    "    if (len(predicted)>k):\n",
    "        predicted = predicted[:k]\n",
    "\n",
    "    score = 0.0\n",
    "    num_hits = 0.0\n",
    "\n",
    "    for i,p in enumerate(predicted):\n",
    "        if (p in actual and p not in predicted[:i]):\n",
    "            num_hits += 1.0\n",
    "            score += num_hits / (i+1.0)\n",
    "\n",
    "    if not actual:\n",
    "        return 0.0\n",
    "\n",
    "    return score / min(len(actual), k)\n",
    "\n",
    "def mapk(actual, predicted, k=10):\n",
    "    \"\"\"\n",
    "    Computes the mean average precision at k.\n",
    "    This function computes the mean average prescision at k between two lists\n",
    "    of lists of items.\n",
    "    Parameters\n",
    "    ----------\n",
    "    actual : list\n",
    "             A list of lists of elements that are to be predicted \n",
    "             (order doesn't matter in the lists)\n",
    "    predicted : list\n",
    "                A list of lists of predicted elements\n",
    "                (order matters in the lists)\n",
    "    k : int, optional\n",
    "        The maximum number of predicted elements\n",
    "    Returns\n",
    "    -------\n",
    "    score : double\n",
    "            The mean average precision at k over the input lists\n",
    "    \"\"\"\n",
    "    return np.mean([apk(a,p,k) for a,p in zip(actual, predicted)])"
   ]
  },
  {
   "cell_type": "markdown",
   "metadata": {},
   "source": [
    "<h4>Consultas</h4>"
   ]
  },
  {
   "cell_type": "markdown",
   "metadata": {},
   "source": [
    "Agora, vamos realizar consultas para os seguintes termos:\n",
    "* segundo turno;\n",
    "* lava jato;\n",
    "* projeto de lei;\n",
    "* compra de voto.\n",
    "* ministério público."
   ]
  },
  {
   "cell_type": "code",
   "execution_count": 21,
   "metadata": {},
   "outputs": [],
   "source": [
    "queries = [\"segundo turno\", \"lava jato\", \"projeto de lei\",\n",
    "           \"compra de voto\", \"ministério público\"]\n",
    "\n",
    "result = pd.DataFrame(columns = [\"consulta\", \"binario\", \"tf\", \"tfidf\", \"bm25\"])\n",
    "\n",
    "index = 0\n",
    "for q in queries:\n",
    "    result.loc[index] = [q, \n",
    "                          str(search(q, \"binario\")),\n",
    "                          str(search(q, \"tf\")),\n",
    "                          str(search(q, \"tfidf\")),\n",
    "                          str(search(q, \"bm25\"))]\n",
    "    index = index + 1"
   ]
  },
  {
   "cell_type": "markdown",
   "metadata": {},
   "source": [
    "Antes de comparar as buscas precisamos converter para inteiro todos os elementos da lista."
   ]
  },
  {
   "cell_type": "code",
   "execution_count": 26,
   "metadata": {},
   "outputs": [],
   "source": [
    "import re\n",
    "def converte_lista_int(lista):\n",
    "    n_lista = []\n",
    "    \n",
    "    for query_result in lista:        \n",
    "        as_str = re.sub('[,\\[\\]]', '', query_result)\n",
    "        as_list = as_str.split(\" \")\n",
    "        list_of_int = list(map(int, as_list))\n",
    "        n_lista.append(list_of_int)\n",
    "    \n",
    "    return n_lista"
   ]
  },
  {
   "cell_type": "code",
   "execution_count": 32,
   "metadata": {},
   "outputs": [
    {
     "name": "stdout",
     "output_type": "stream",
     "text": [
      "Para os algoritmos feitos nesse lab\n",
      "Modelo binário:  0.24\n",
      "Modelo TF:  0.71\n",
      "Modelo TF-IDF:  0.6046666666666667\n",
      "Modelo BM25:  0.5519999999999999\n",
      "Para algoritmos em consultas Google\n",
      "Modelo binário:  0.04\n",
      "Modelo TF:  0.048\n",
      "Modelo TF-IDF:  0.048\n",
      "Modelo BM25:  0.048\n"
     ]
    }
   ],
   "source": [
    "gab_bin = converte_lista_int(gabarito.busca_binaria)\n",
    "real_bin = converte_lista_int(result.binario)\n",
    "gab_tf = converte_lista_int(gabarito.tf)\n",
    "real_tf = converte_lista_int(result.tf)\n",
    "gab_tfidf = converte_lista_int(gabarito.tfidf)\n",
    "real_tfidf = converte_lista_int(result.tfidf)\n",
    "gab_bm25 = converte_lista_int(gabarito.bm25)\n",
    "real_bm25 = converte_lista_int(result.bm25)\n",
    "real_google = converte_lista_int(gabarito.google)\n",
    "\n",
    "\n",
    "print(\"Para os algoritmos feitos nesse lab\")\n",
    "print(\"Modelo binário: \", mapk(gab_bin, real_bin, k = 5))\n",
    "print(\"Modelo TF: \", mapk(gab_tf, real_tf, k = 5))\n",
    "print(\"Modelo TF-IDF: \", mapk(gab_tfidf, real_tfidf, k = 5))\n",
    "print(\"Modelo BM25: \", mapk(gab_bm25, real_bm25, k = 5))\n",
    "print(\"Para algoritmos em consultas Google\")\n",
    "print(\"Modelo binário: \", mapk(real_google, real_bin, k = 5))\n",
    "print(\"Modelo TF: \", mapk(real_google, real_tf, k = 5))\n",
    "print(\"Modelo TF-IDF: \", mapk(real_google, real_tfidf, k = 5))\n",
    "print(\"Modelo BM25: \", mapk(real_google, real_bm25, k = 5))"
   ]
  },
  {
   "cell_type": "markdown",
   "metadata": {},
   "source": [
    "Com isso, nosso melhor modelo é o TF com a maior taxa de precisão de acertos. Em seguida temos o TF-IDF, o BM25 e por último com uma grande diferença de precisão o binário. Podemos ver que em consulas Google todos se saem iguais exceto o modelo binário. \n",
    "De forma geral o modelo binário é o mais simples e é de se esperar que tenha menos acertos que os outros. "
   ]
  },
  {
   "cell_type": "code",
   "execution_count": null,
   "metadata": {},
   "outputs": [],
   "source": []
  }
 ],
 "metadata": {
  "kernelspec": {
   "display_name": "Python 3",
   "language": "python",
   "name": "python3"
  },
  "language_info": {
   "codemirror_mode": {
    "name": "ipython",
    "version": 3
   },
   "file_extension": ".py",
   "mimetype": "text/x-python",
   "name": "python",
   "nbconvert_exporter": "python",
   "pygments_lexer": "ipython3",
   "version": "3.6.4"
  }
 },
 "nbformat": 4,
 "nbformat_minor": 2
}
