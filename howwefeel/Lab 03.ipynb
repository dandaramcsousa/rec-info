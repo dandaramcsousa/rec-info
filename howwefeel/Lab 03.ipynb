{
 "cells": [
  {
   "cell_type": "markdown",
   "metadata": {},
   "source": [
    "# Atividade Final - Análise de Sentimentos do Twitter"
   ]
  },
  {
   "cell_type": "markdown",
   "metadata": {},
   "source": [
    "**Autora: Dandara Sousa**"
   ]
  },
  {
   "cell_type": "markdown",
   "metadata": {},
   "source": [
    "Esse é a atividade final da atividade de Recuperação da Informação do 2018.1 do curso de Ciência da Computação - UFCG. A intenção é fazer um alisador de sentimentos do Twitter. Inicialmente foi dado um arquivo csv com exemplos de tuítes com suas classificações (positivo/negativo). Esse arquivo deve ser utilizado para montar um modelo que depois será aplicado para tuítes de um assunto específico (neste caso, utilizei a hashtag **#LulaLivre**).\n",
    "Algumas observações a serem feitas:\n",
    "1. No csv inicial os arquivos são classificados da seguinte forma: se possui :) no final é um tuíte positivo e se tiver :( é negativo. Por essa razão é aceitável e até previsível que a precisão da predição não seja tão alta.\n",
    "2. Pela API do twitter é possível apenas recuperar tuítes num espaço de 7 dias. Sendo assim, o volume de dados não é tão alto quanto gostaria que fosse. "
   ]
  },
  {
   "cell_type": "code",
   "execution_count": 1,
   "metadata": {},
   "outputs": [],
   "source": [
    "import csv\n",
    "import pandas as pd\n",
    "import re\n",
    "import nltk as nl\n",
    "\n",
    "from sklearn.feature_extraction.text import CountVectorizer\n",
    "from sklearn.naive_bayes import MultinomialNB\n",
    "from sklearn import metrics\n",
    "from sklearn.model_selection import cross_val_predict"
   ]
  },
  {
   "cell_type": "markdown",
   "metadata": {},
   "source": [
    "### 1. O dataset"
   ]
  },
  {
   "cell_type": "markdown",
   "metadata": {},
   "source": [
    "Como dito anteriormente, o dataset inicial é um conjunto de tuítes com uma classificação entre positivo ou negativo. Porém, como os dados ainda vem com links, menções e marcas de retuítes faz-se necessário que haja uma limpeza. As próximas linhas de código envolvem o carregamento do dataset, a limpeza e a renomeação da classificação (de *\"0\"* ou *\"1\"* para *\"Negativo\"* ou *\"Positivo\"*)."
   ]
  },
  {
   "cell_type": "code",
   "execution_count": 2,
   "metadata": {},
   "outputs": [],
   "source": [
    "df = pd.read_csv(\"db.csv\", encoding='utf-8', delimiter = '\\t')"
   ]
  },
  {
   "cell_type": "code",
   "execution_count": 3,
   "metadata": {},
   "outputs": [],
   "source": [
    "def remove_stopwords(text):\n",
    "    stopwords = set(nl.corpus.stopwords.words('portuguese'))\n",
    "    words = [i for i in text.split() if not i in stopwords]\n",
    "    return (\" \".join(words))\n",
    "\n",
    "def remove_links(text):\n",
    "    return re.sub(r\"http\\S+\", \"\", text)\n",
    "\n",
    "def remove_mentions(text):\n",
    "    return re.sub(r\"@\\w+\", \"\", text)\n",
    "\n",
    "def remove_retweets(text):\n",
    "    return re.sub(r\"rt\\s\", \"\", text)\n",
    "\n",
    "def remove_special_chars(text):\n",
    "    text = re.sub(r'[^\\w\\s]', ' ', text)\n",
    "    text = re.sub(r\"$\\d+\\W+|\\b\\d+\\b|\\W+\\d+$\", \"\", text)\n",
    "    text_with_no_special_chars = re.sub(\"\\s+\", \" \", text)\n",
    "    return text_with_no_special_chars\n",
    "\n",
    "def stemming(text):\n",
    "    stemmer = nl.stem.RSLPStemmer()\n",
    "    words = []\n",
    "    for word in text.split():\n",
    "        words.append(stemmer.stem(word))\n",
    "    return (\" \".join(words))\n",
    "\n",
    "def standardize_text(text):\n",
    "    text = text.lower()\n",
    "    text = remove_links(text)\n",
    "    text = remove_mentions(text)\n",
    "    text = remove_retweets(text)\n",
    "    text = remove_stopwords(text)\n",
    "    text = remove_special_chars(text)\n",
    "    return text\n",
    "def sentiment_to_name(n):\n",
    "    if n == 0:\n",
    "        n = 'Negativo'\n",
    "    elif n == 1:\n",
    "        n = 'Positivo'\n",
    "    return n"
   ]
  },
  {
   "cell_type": "code",
   "execution_count": 4,
   "metadata": {},
   "outputs": [
    {
     "data": {
      "text/html": [
       "<div>\n",
       "<style scoped>\n",
       "    .dataframe tbody tr th:only-of-type {\n",
       "        vertical-align: middle;\n",
       "    }\n",
       "\n",
       "    .dataframe tbody tr th {\n",
       "        vertical-align: top;\n",
       "    }\n",
       "\n",
       "    .dataframe thead th {\n",
       "        text-align: right;\n",
       "    }\n",
       "</style>\n",
       "<table border=\"1\" class=\"dataframe\">\n",
       "  <thead>\n",
       "    <tr style=\"text-align: right;\">\n",
       "      <th></th>\n",
       "      <th>id</th>\n",
       "      <th>text</th>\n",
       "      <th>sentiment</th>\n",
       "    </tr>\n",
       "  </thead>\n",
       "  <tbody>\n",
       "    <tr>\n",
       "      <th>0</th>\n",
       "      <td>1</td>\n",
       "      <td>fica assim miga lt tudo arranja deus quiser</td>\n",
       "      <td>Positivo</td>\n",
       "    </tr>\n",
       "    <tr>\n",
       "      <th>1</th>\n",
       "      <td>2</td>\n",
       "      <td>parti todo descer avenida gaia skate</td>\n",
       "      <td>Positivo</td>\n",
       "    </tr>\n",
       "    <tr>\n",
       "      <th>2</th>\n",
       "      <td>3</td>\n",
       "      <td>amanhã é dia dar trato palestra thedevconf aju...</td>\n",
       "      <td>Positivo</td>\n",
       "    </tr>\n",
       "    <tr>\n",
       "      <th>3</th>\n",
       "      <td>4</td>\n",
       "      <td>posso sentar vocês</td>\n",
       "      <td>Positivo</td>\n",
       "    </tr>\n",
       "    <tr>\n",
       "      <th>4</th>\n",
       "      <td>5</td>\n",
       "      <td>ok sim aham tá boa vai lá</td>\n",
       "      <td>Positivo</td>\n",
       "    </tr>\n",
       "  </tbody>\n",
       "</table>\n",
       "</div>"
      ],
      "text/plain": [
       "   id                                               text sentiment\n",
       "0   1       fica assim miga lt tudo arranja deus quiser   Positivo\n",
       "1   2              parti todo descer avenida gaia skate   Positivo\n",
       "2   3  amanhã é dia dar trato palestra thedevconf aju...  Positivo\n",
       "3   4                                posso sentar vocês   Positivo\n",
       "4   5                         ok sim aham tá boa vai lá   Positivo"
      ]
     },
     "execution_count": 4,
     "metadata": {},
     "output_type": "execute_result"
    }
   ],
   "source": [
    "df.text = df.text.apply(standardize_text)\n",
    "df.sentiment = df.sentiment.apply(sentiment_to_name)\n",
    "df.head()"
   ]
  },
  {
   "cell_type": "markdown",
   "metadata": {},
   "source": [
    "### 2. O modelo"
   ]
  },
  {
   "cell_type": "markdown",
   "metadata": {},
   "source": [
    "#### 2.1 Construindo o modelo"
   ]
  },
  {
   "cell_type": "markdown",
   "metadata": {},
   "source": [
    "Para a construção do modelo será utilizado o modelo de bigramas para vetorizar a cada duas palavras dado que, de certa forma, uma palavra sozinha faz menos sentido do que duas juntas. Também o Bag of Words que cria um vetor com cada uma das palavras do texto completo da base,depois, calcula a frequência em que essas palavras ocorrem em uma data sentença para treinar o modelo."
   ]
  },
  {
   "cell_type": "code",
   "execution_count": 5,
   "metadata": {},
   "outputs": [
    {
     "data": {
      "text/plain": [
       "MultinomialNB(alpha=1.0, class_prior=None, fit_prior=True)"
      ]
     },
     "execution_count": 5,
     "metadata": {},
     "output_type": "execute_result"
    }
   ],
   "source": [
    "tweets = df['text'].values\n",
    "classes = df['sentiment'].values\n",
    "vectorizer = CountVectorizer(ngram_range = (1, 2))\n",
    "freq_tweets = vectorizer.fit_transform(tweets)\n",
    "\n",
    "modelo = MultinomialNB()\n",
    "modelo.fit(freq_tweets, classes)"
   ]
  },
  {
   "cell_type": "markdown",
   "metadata": {},
   "source": [
    "#### 2.2 Testando o modelo"
   ]
  },
  {
   "cell_type": "markdown",
   "metadata": {},
   "source": [
    "Agora, vamos testar o modelo com algumas frases que vimos como positivas ou negativas e ver o que é retornado."
   ]
  },
  {
   "cell_type": "code",
   "execution_count": 7,
   "metadata": {},
   "outputs": [
    {
     "data": {
      "text/plain": [
       "array(['Positivo', 'Positivo', 'Negativo', 'Positivo', 'Positivo',\n",
       "       'Negativo'], dtype='<U8')"
      ]
     },
     "execution_count": 7,
     "metadata": {},
     "output_type": "execute_result"
    }
   ],
   "source": [
    "testes = [\"Lula é top\",\n",
    "          \"Me sinto feliz com a universidade\",\n",
    "          \"Odeio a politica brasileira\",\n",
    "          \"Que comecem a fase de buscar empregos\",\n",
    "          \"As eleições esse ano não serão fáceis\",\n",
    "          \"O governo federal está cada vez pior\"]\n",
    "\n",
    "freq_testes = vectorizer.transform(testes)\n",
    "modelo.predict(freq_testes)"
   ]
  },
  {
   "cell_type": "markdown",
   "metadata": {},
   "source": [
    "Novamente, é válido lembrar que por não ter uma classificação \"Neutro\" fica mais difícil categorizar um tuíte. *\"As eleições esse ano não serão fáceis\"* não seria um tuíte positivo ou negativo, melhor se encaixaria em neutro."
   ]
  },
  {
   "cell_type": "markdown",
   "metadata": {},
   "source": [
    "#### 2.3 Validação do modelo"
   ]
  },
  {
   "cell_type": "markdown",
   "metadata": {},
   "source": [
    "Para a validação dos dados, faremos uma validação cruzada. Em seguidas observaremos a acurácia (quanto mais próximo de 1 melhor) e por último, veremos as medidas de validação do modelo com base nos sentimentos. "
   ]
  },
  {
   "cell_type": "code",
   "execution_count": 9,
   "metadata": {},
   "outputs": [
    {
     "data": {
      "text/plain": [
       "0.7456107133021206"
      ]
     },
     "execution_count": 9,
     "metadata": {},
     "output_type": "execute_result"
    }
   ],
   "source": [
    "resultados = cross_val_predict(modelo, freq_tweets, classes, cv = 10)\n",
    "metrics.accuracy_score(classes, resultados)"
   ]
  },
  {
   "cell_type": "markdown",
   "metadata": {},
   "source": [
    "*Obs.:*\n",
    "1. *precision = true positive / (true positive + false positive)* \n",
    "2. *recall    = true positive / (true positive + false negative)* \n",
    "3. *f1-score  = 2 x ((precision x recall) / (precision + recall))*\n"
   ]
  },
  {
   "cell_type": "code",
   "execution_count": 10,
   "metadata": {
    "scrolled": true
   },
   "outputs": [
    {
     "name": "stdout",
     "output_type": "stream",
     "text": [
      "             precision    recall  f1-score   support\n",
      "\n",
      "   Positivo       0.78      0.70      0.74     29924\n",
      "   Negativo       0.71      0.79      0.75     28172\n",
      "\n",
      "avg / total       0.75      0.75      0.75     58096\n",
      "\n"
     ]
    }
   ],
   "source": [
    "sentimentos = [\"Positivo\", \"Negativo\"]\n",
    "print(metrics.classification_report(classes, resultados, sentimentos))"
   ]
  },
  {
   "cell_type": "markdown",
   "metadata": {},
   "source": [
    "#### 2.4 Comparando o modelo\n"
   ]
  },
  {
   "cell_type": "markdown",
   "metadata": {},
   "source": [
    "Se números às vezes as métricas são abstratas demais vamos simplificar para números. Quanto dos sentimentos preditos eram os sentimentos previamente classificados e quantos não?"
   ]
  },
  {
   "cell_type": "code",
   "execution_count": 11,
   "metadata": {},
   "outputs": [],
   "source": [
    "freq = vectorizer.transform(df.text)\n",
    "predict_tweets = modelo.predict(freq)\n"
   ]
  },
  {
   "cell_type": "code",
   "execution_count": 12,
   "metadata": {},
   "outputs": [
    {
     "data": {
      "text/html": [
       "<div>\n",
       "<style scoped>\n",
       "    .dataframe tbody tr th:only-of-type {\n",
       "        vertical-align: middle;\n",
       "    }\n",
       "\n",
       "    .dataframe tbody tr th {\n",
       "        vertical-align: top;\n",
       "    }\n",
       "\n",
       "    .dataframe thead th {\n",
       "        text-align: right;\n",
       "    }\n",
       "</style>\n",
       "<table border=\"1\" class=\"dataframe\">\n",
       "  <thead>\n",
       "    <tr style=\"text-align: right;\">\n",
       "      <th></th>\n",
       "      <th>id</th>\n",
       "      <th>text</th>\n",
       "      <th>sentiment</th>\n",
       "      <th>predicted</th>\n",
       "    </tr>\n",
       "  </thead>\n",
       "  <tbody>\n",
       "    <tr>\n",
       "      <th>0</th>\n",
       "      <td>1</td>\n",
       "      <td>fica assim miga lt tudo arranja deus quiser</td>\n",
       "      <td>Positivo</td>\n",
       "      <td>Positivo</td>\n",
       "    </tr>\n",
       "    <tr>\n",
       "      <th>1</th>\n",
       "      <td>2</td>\n",
       "      <td>parti todo descer avenida gaia skate</td>\n",
       "      <td>Positivo</td>\n",
       "      <td>Positivo</td>\n",
       "    </tr>\n",
       "    <tr>\n",
       "      <th>2</th>\n",
       "      <td>3</td>\n",
       "      <td>amanhã é dia dar trato palestra thedevconf aju...</td>\n",
       "      <td>Positivo</td>\n",
       "      <td>Positivo</td>\n",
       "    </tr>\n",
       "    <tr>\n",
       "      <th>3</th>\n",
       "      <td>4</td>\n",
       "      <td>posso sentar vocês</td>\n",
       "      <td>Positivo</td>\n",
       "      <td>Positivo</td>\n",
       "    </tr>\n",
       "    <tr>\n",
       "      <th>4</th>\n",
       "      <td>5</td>\n",
       "      <td>ok sim aham tá boa vai lá</td>\n",
       "      <td>Positivo</td>\n",
       "      <td>Positivo</td>\n",
       "    </tr>\n",
       "  </tbody>\n",
       "</table>\n",
       "</div>"
      ],
      "text/plain": [
       "   id                                               text sentiment predicted\n",
       "0   1       fica assim miga lt tudo arranja deus quiser   Positivo  Positivo\n",
       "1   2              parti todo descer avenida gaia skate   Positivo  Positivo\n",
       "2   3  amanhã é dia dar trato palestra thedevconf aju...  Positivo  Positivo\n",
       "3   4                                posso sentar vocês   Positivo  Positivo\n",
       "4   5                         ok sim aham tá boa vai lá   Positivo  Positivo"
      ]
     },
     "execution_count": 12,
     "metadata": {},
     "output_type": "execute_result"
    }
   ],
   "source": [
    "df['predicted'] = predict_tweets\n",
    "df.head()"
   ]
  },
  {
   "cell_type": "code",
   "execution_count": 13,
   "metadata": {},
   "outputs": [
    {
     "data": {
      "text/plain": [
       "(3681, 4)"
      ]
     },
     "execution_count": 13,
     "metadata": {},
     "output_type": "execute_result"
    }
   ],
   "source": [
    "not_match = df[df[\"sentiment\"] != df[\"predicted\"]]\n",
    "not_match.shape"
   ]
  },
  {
   "cell_type": "code",
   "execution_count": 14,
   "metadata": {},
   "outputs": [
    {
     "data": {
      "text/plain": [
       "(54415, 4)"
      ]
     },
     "execution_count": 14,
     "metadata": {},
     "output_type": "execute_result"
    }
   ],
   "source": [
    "match = df[df[\"sentiment\"] == df[\"predicted\"]]\n",
    "match.shape"
   ]
  },
  {
   "cell_type": "markdown",
   "metadata": {},
   "source": [
    "Acima podemos ver que nosso modelos teve **3681** predições erradas mas acertou **54415**. Consideramos, de certa forma, um bom modelo de predição dada as dificuldades."
   ]
  },
  {
   "cell_type": "markdown",
   "metadata": {},
   "source": [
    "### 3. Aplicando o modelo"
   ]
  },
  {
   "cell_type": "markdown",
   "metadata": {},
   "source": [
    "Indo então para o que realmente importa, vamos classificar os tuítes com #LulaLivre como positivo ou negativo utilizando o modelo construído acima. O processo é semelhante ao anterior e ao final é possível acessar o csv com todos os tuítes (originais) + classificação."
   ]
  },
  {
   "cell_type": "code",
   "execution_count": 21,
   "metadata": {},
   "outputs": [
    {
     "data": {
      "text/html": [
       "<div>\n",
       "<style scoped>\n",
       "    .dataframe tbody tr th:only-of-type {\n",
       "        vertical-align: middle;\n",
       "    }\n",
       "\n",
       "    .dataframe tbody tr th {\n",
       "        vertical-align: top;\n",
       "    }\n",
       "\n",
       "    .dataframe thead th {\n",
       "        text-align: right;\n",
       "    }\n",
       "</style>\n",
       "<table border=\"1\" class=\"dataframe\">\n",
       "  <thead>\n",
       "    <tr style=\"text-align: right;\">\n",
       "      <th></th>\n",
       "      <th>DATE</th>\n",
       "      <th>TWEET</th>\n",
       "    </tr>\n",
       "  </thead>\n",
       "  <tbody>\n",
       "    <tr>\n",
       "      <th>0</th>\n",
       "      <td>2018-07-30 12:37:56</td>\n",
       "      <td>ex presidenta chile mbachelet defendeu sus re...</td>\n",
       "    </tr>\n",
       "    <tr>\n",
       "      <th>1</th>\n",
       "      <td>2018-07-30 12:37:44</td>\n",
       "      <td>reféns mídia golpista têm ideia importância f...</td>\n",
       "    </tr>\n",
       "    <tr>\n",
       "      <th>2</th>\n",
       "      <td>2018-07-30 12:37:35</td>\n",
       "      <td>lula é tão absurdo que sequestrado cem dias c...</td>\n",
       "    </tr>\n",
       "    <tr>\n",
       "      <th>3</th>\n",
       "      <td>2018-07-30 12:37:03</td>\n",
       "      <td>transmissão festival tvt bateu recordes ato r...</td>\n",
       "    </tr>\n",
       "    <tr>\n",
       "      <th>4</th>\n",
       "      <td>2018-07-30 12:36:55</td>\n",
       "      <td>acho legal dizem militante esquerda ganha def...</td>\n",
       "    </tr>\n",
       "  </tbody>\n",
       "</table>\n",
       "</div>"
      ],
      "text/plain": [
       "                  DATE                                              TWEET\n",
       "0  2018-07-30 12:37:56   ex presidenta chile mbachelet defendeu sus re...\n",
       "1  2018-07-30 12:37:44   reféns mídia golpista têm ideia importância f...\n",
       "2  2018-07-30 12:37:35   lula é tão absurdo que sequestrado cem dias c...\n",
       "3  2018-07-30 12:37:03   transmissão festival tvt bateu recordes ato r...\n",
       "4  2018-07-30 12:36:55   acho legal dizem militante esquerda ganha def..."
      ]
     },
     "execution_count": 21,
     "metadata": {},
     "output_type": "execute_result"
    }
   ],
   "source": [
    "lula = pd.read_csv(\"lulala.csv\", encoding='utf-8', delimiter = '\\t')\n",
    "lula.TWEET = lula.TWEET.apply(standardize_text)\n",
    "lula.head()"
   ]
  },
  {
   "cell_type": "code",
   "execution_count": 23,
   "metadata": {},
   "outputs": [
    {
     "data": {
      "text/html": [
       "<div>\n",
       "<style scoped>\n",
       "    .dataframe tbody tr th:only-of-type {\n",
       "        vertical-align: middle;\n",
       "    }\n",
       "\n",
       "    .dataframe tbody tr th {\n",
       "        vertical-align: top;\n",
       "    }\n",
       "\n",
       "    .dataframe thead th {\n",
       "        text-align: right;\n",
       "    }\n",
       "</style>\n",
       "<table border=\"1\" class=\"dataframe\">\n",
       "  <thead>\n",
       "    <tr style=\"text-align: right;\">\n",
       "      <th></th>\n",
       "      <th>DATE</th>\n",
       "      <th>TWEET</th>\n",
       "      <th>predicted</th>\n",
       "    </tr>\n",
       "  </thead>\n",
       "  <tbody>\n",
       "    <tr>\n",
       "      <th>0</th>\n",
       "      <td>2018-07-30 12:37:56</td>\n",
       "      <td>RT @ptbrasiI: A ex-presidenta do Chile mbachel...</td>\n",
       "      <td>Negativo</td>\n",
       "    </tr>\n",
       "    <tr>\n",
       "      <th>1</th>\n",
       "      <td>2018-07-30 12:37:44</td>\n",
       "      <td>RT @Vivihtuitando: Os reféns da mídia golpista...</td>\n",
       "      <td>Positivo</td>\n",
       "    </tr>\n",
       "    <tr>\n",
       "      <th>2</th>\n",
       "      <td>2018-07-30 12:37:35</td>\n",
       "      <td>RT @abdalafarah: Lula é tão absurdo que, mesmo...</td>\n",
       "      <td>Negativo</td>\n",
       "    </tr>\n",
       "    <tr>\n",
       "      <th>3</th>\n",
       "      <td>2018-07-30 12:37:03</td>\n",
       "      <td>RT @humbertocostapt: Transmissão do festival p...</td>\n",
       "      <td>Positivo</td>\n",
       "    </tr>\n",
       "    <tr>\n",
       "      <th>4</th>\n",
       "      <td>2018-07-30 12:36:55</td>\n",
       "      <td>RT @jgprates: Eu acho legal quando dizem que m...</td>\n",
       "      <td>Positivo</td>\n",
       "    </tr>\n",
       "  </tbody>\n",
       "</table>\n",
       "</div>"
      ],
      "text/plain": [
       "                  DATE                                              TWEET  \\\n",
       "0  2018-07-30 12:37:56  RT @ptbrasiI: A ex-presidenta do Chile mbachel...   \n",
       "1  2018-07-30 12:37:44  RT @Vivihtuitando: Os reféns da mídia golpista...   \n",
       "2  2018-07-30 12:37:35  RT @abdalafarah: Lula é tão absurdo que, mesmo...   \n",
       "3  2018-07-30 12:37:03  RT @humbertocostapt: Transmissão do festival p...   \n",
       "4  2018-07-30 12:36:55  RT @jgprates: Eu acho legal quando dizem que m...   \n",
       "\n",
       "  predicted  \n",
       "0  Negativo  \n",
       "1  Positivo  \n",
       "2  Negativo  \n",
       "3  Positivo  \n",
       "4  Positivo  "
      ]
     },
     "execution_count": 23,
     "metadata": {},
     "output_type": "execute_result"
    }
   ],
   "source": [
    "freq_lula = vectorizer.transform(lula.TWEET)\n",
    "predict_tweets_lula = modelo.predict(freq_lula)\n",
    "\n",
    "lula_to_csv = pd.read_csv(\"lulala.csv\", encoding='utf-8', delimiter = '\\t')\n",
    "lula_to_csv['predicted'] = predict_tweets_lula\n",
    "lula_to_csv.head()"
   ]
  },
  {
   "cell_type": "code",
   "execution_count": 25,
   "metadata": {},
   "outputs": [],
   "source": [
    "lula_to_csv.to_csv(\"tuiteslulalivreclassificados.csv\", sep='\\t', encoding='utf-8')\n"
   ]
  },
  {
   "cell_type": "markdown",
   "metadata": {},
   "source": [
    "[Link para o csv.](https://bit.ly/2LArpt3)"
   ]
  }
 ],
 "metadata": {
  "kernelspec": {
   "display_name": "Python 3",
   "language": "python",
   "name": "python3"
  },
  "language_info": {
   "codemirror_mode": {
    "name": "ipython",
    "version": 3
   },
   "file_extension": ".py",
   "mimetype": "text/x-python",
   "name": "python",
   "nbconvert_exporter": "python",
   "pygments_lexer": "ipython3",
   "version": "3.6.4"
  }
 },
 "nbformat": 4,
 "nbformat_minor": 2
}
